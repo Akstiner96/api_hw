{
 "cells": [
  {
   "cell_type": "code",
   "execution_count": 28,
   "metadata": {},
   "outputs": [],
   "source": [
    "import os\n",
    "import plaid\n",
    "import requests\n",
    "import datetime\n",
    "import json\n",
    "import pandas as pd\n",
    "%matplotlib inline\n",
    "from dotenv import load_dotenv"
   ]
  },
  {
   "cell_type": "code",
   "execution_count": 29,
   "metadata": {},
   "outputs": [],
   "source": [
    "#def pretty_print_response(response):\n",
    " # print(json.dumps(response, indent=4, sort_keys=True))"
   ]
  },
  {
   "cell_type": "code",
   "execution_count": 30,
   "metadata": {},
   "outputs": [
    {
     "name": "stdout",
     "output_type": "stream",
     "text": [
      "environ({'ACLOCAL_PATH': 'C:\\\\Users\\\\andre\\\\Downloads\\\\Git\\\\mingw64\\\\share\\\\aclocal;C:\\\\Users\\\\andre\\\\Downloads\\\\Git\\\\usr\\\\share\\\\aclocal', 'ALLUSERSPROFILE': 'C:\\\\ProgramData', 'APPDATA': 'C:\\\\Users\\\\andre\\\\AppData\\\\Roaming', 'COMMONPROGRAMFILES': 'C:\\\\Program Files\\\\Common Files', 'COMPUTERNAME': 'LAPTOP-J6BV71UC', 'COMSPEC': 'C:\\\\windows\\\\system32\\\\cmd.exe', 'CONDA_DEFAULT_ENV': 'base', 'CONDA_EXE': 'C:/Users/andre/anaconda3/Scripts/conda.exe', 'CONDA_PREFIX': 'C:\\\\Users\\\\andre\\\\anaconda3', 'CONDA_PROMPT_MODIFIER': '(base) ', 'CONDA_PYTHON_EXE': 'C:/Users/andre/anaconda3/python.exe', 'CONDA_SHLVL': '1', 'CONFIG_SITE': 'C:/Users/andre/Downloads/Git/mingw64/etc/config.site', 'COMMONPROGRAMFILES(X86)': 'C:\\\\Program Files (x86)\\\\Common Files', 'COMMONPROGRAMW6432': 'C:\\\\Program Files\\\\Common Files', 'DISPLAY': 'needs-to-be-defined', 'DRIVERDATA': 'C:\\\\Windows\\\\System32\\\\Drivers\\\\DriverData', 'EXEPATH': 'C:\\\\Users\\\\andre\\\\Downloads\\\\Git', 'HOME': 'C:\\\\Users\\\\andre', 'HOMEDRIVE': 'C:', 'HOMEPATH': '\\\\Users\\\\andre', 'HOSTNAME': 'LAPTOP-J6BV71UC', 'INFOPATH': 'C:\\\\Users\\\\andre\\\\Downloads\\\\Git\\\\usr\\\\local\\\\info;C:\\\\Users\\\\andre\\\\Downloads\\\\Git\\\\usr\\\\share\\\\info;C:\\\\Users\\\\andre\\\\Downloads\\\\Git\\\\usr\\\\info;C:\\\\Users\\\\andre\\\\Downloads\\\\Git\\\\share\\\\info', 'LANG': 'en_US.UTF-8', 'LOCALAPPDATA': 'C:\\\\Users\\\\andre\\\\AppData\\\\Local', 'LOGONSERVER': '\\\\\\\\LAPTOP-J6BV71UC', 'MANPATH': 'C:\\\\Users\\\\andre\\\\Downloads\\\\Git\\\\mingw64\\\\local\\\\man;C:\\\\Users\\\\andre\\\\Downloads\\\\Git\\\\mingw64\\\\share\\\\man;C:\\\\Users\\\\andre\\\\Downloads\\\\Git\\\\usr\\\\local\\\\man;C:\\\\Users\\\\andre\\\\Downloads\\\\Git\\\\usr\\\\share\\\\man;C:\\\\Users\\\\andre\\\\Downloads\\\\Git\\\\usr\\\\man;C:\\\\Users\\\\andre\\\\Downloads\\\\Git\\\\share\\\\man', 'MINGW_CHOST': 'x86_64-w64-mingw32', 'MINGW_PACKAGE_PREFIX': 'mingw-w64-x86_64', 'MINGW_PREFIX': 'C:/Users/andre/Downloads/Git/mingw64', 'MSYSTEM': 'MINGW64', 'MSYSTEM_CARCH': 'x86_64', 'MSYSTEM_CHOST': 'x86_64-w64-mingw32', 'MSYSTEM_PREFIX': 'C:/Users/andre/Downloads/Git/mingw64', 'NUMBER_OF_PROCESSORS': '8', 'OLDPWD': 'C:/Users/andre/Documents/Bootcamp/Class_repository', 'ORIGINAL_PATH': 'C:\\\\Users\\\\andre\\\\Downloads\\\\Git\\\\mingw64\\\\bin;C:\\\\Users\\\\andre\\\\Downloads\\\\Git\\\\usr\\\\bin;C:\\\\Users\\\\andre\\\\bin;C:\\\\windows\\\\system32;C:\\\\windows;C:\\\\windows\\\\System32\\\\Wbem;C:\\\\windows\\\\System32\\\\WindowsPowerShell\\\\v1.0;C:\\\\windows\\\\System32\\\\OpenSSH;C:\\\\Users\\\\andre\\\\Downloads\\\\Git\\\\cmd;C:\\\\Users\\\\andre\\\\AppData\\\\Local\\\\Microsoft\\\\WindowsApps;C:\\\\Users\\\\andre\\\\AppData\\\\Local\\\\Programs\\\\Microsoft VS Code\\\\bin;C:\\\\Users\\\\andre\\\\AppData\\\\Local\\\\Programs\\\\Microsoft VS Code\\\\bin;C:\\\\Users\\\\andre\\\\anaconda3\\\\Scripts', 'ORIGINAL_TEMP': 'C:/Users/andre/AppData/Local/Temp', 'ORIGINAL_TMP': 'C:/Users/andre/AppData/Local/Temp', 'OS': 'Windows_NT', 'ONEDRIVE': 'C:\\\\Users\\\\andre\\\\OneDrive', 'ONEDRIVECONSUMER': 'C:\\\\Users\\\\andre\\\\OneDrive', 'ONLINESERVICES': 'Online Services', 'PATH': 'C:\\\\Users\\\\andre\\\\anaconda3;C:\\\\Users\\\\andre\\\\anaconda3\\\\Library\\\\mingw-w64\\\\bin;C:\\\\Users\\\\andre\\\\anaconda3\\\\Library\\\\usr\\\\bin;C:\\\\Users\\\\andre\\\\anaconda3\\\\Library\\\\bin;C:\\\\Users\\\\andre\\\\anaconda3\\\\Scripts;C:\\\\Users\\\\andre\\\\anaconda3\\\\bin;C:\\\\Users\\\\andre\\\\anaconda3\\\\Scripts\\\\condabin;C:\\\\Users\\\\andre\\\\bin;C:\\\\Users\\\\andre\\\\Downloads\\\\Git\\\\mingw64\\\\bin;C:\\\\Users\\\\andre\\\\Downloads\\\\Git\\\\usr\\\\local\\\\bin;C:\\\\Users\\\\andre\\\\Downloads\\\\Git\\\\usr\\\\bin;C:\\\\Users\\\\andre\\\\Downloads\\\\Git\\\\usr\\\\bin;C:\\\\Users\\\\andre\\\\Downloads\\\\Git\\\\mingw64\\\\bin;C:\\\\Users\\\\andre\\\\Downloads\\\\Git\\\\usr\\\\bin;C:\\\\Users\\\\andre\\\\bin;C:\\\\windows\\\\system32;C:\\\\windows;C:\\\\windows\\\\System32\\\\Wbem;C:\\\\windows\\\\System32\\\\WindowsPowerShell\\\\v1.0;C:\\\\windows\\\\System32\\\\OpenSSH;C:\\\\Users\\\\andre\\\\Downloads\\\\Git\\\\cmd;C:\\\\Users\\\\andre\\\\AppData\\\\Local\\\\Microsoft\\\\WindowsApps;C:\\\\Users\\\\andre\\\\AppData\\\\Local\\\\Programs\\\\Microsoft VS Code\\\\bin;C:\\\\Users\\\\andre\\\\AppData\\\\Local\\\\Programs\\\\Microsoft VS Code\\\\bin;C:\\\\Users\\\\andre\\\\anaconda3\\\\Scripts;C:\\\\Users\\\\andre\\\\Downloads\\\\Git\\\\usr\\\\bin\\\\vendor_perl;C:\\\\Users\\\\andre\\\\Downloads\\\\Git\\\\usr\\\\bin\\\\core_perl', 'PATHEXT': '.COM;.EXE;.BAT;.CMD;.VBS;.VBE;.JS;.JSE;.WSF;.WSH;.MSC', 'PKG_CONFIG_PATH': 'C:\\\\Users\\\\andre\\\\Downloads\\\\Git\\\\mingw64\\\\lib\\\\pkgconfig;C:\\\\Users\\\\andre\\\\Downloads\\\\Git\\\\mingw64\\\\share\\\\pkgconfig', 'PLINK_PROTOCOL': 'ssh', 'PROCESSOR_ARCHITECTURE': 'AMD64', 'PROCESSOR_IDENTIFIER': 'Intel64 Family 6 Model 142 Stepping 12, GenuineIntel', 'PROCESSOR_LEVEL': '6', 'PROCESSOR_REVISION': '8e0c', 'PROGRAMFILES': 'C:\\\\Program Files', 'PS1': '(base) \\\\[\\\\033]0;$TITLEPREFIX:$PWD\\\\007\\\\]\\\\n\\\\[\\\\033[32m\\\\]\\\\u@\\\\h \\\\[\\\\033[35m\\\\]$MSYSTEM \\\\[\\\\033[33m\\\\]\\\\w\\\\[\\\\033[36m\\\\]`__git_ps1`\\\\[\\\\033[0m\\\\]\\\\n$ ', 'PSMODULEPATH': 'C:\\\\Program Files\\\\WindowsPowerShell\\\\Modules;C:\\\\windows\\\\system32\\\\WindowsPowerShell\\\\v1.0\\\\Modules', 'PUBLIC': 'C:\\\\Users\\\\Public', 'PWD': 'C:/Users/andre/Documents/Bootcamp/Class_repository/repository_work', 'PROGRAMDATA': 'C:\\\\ProgramData', 'PROGRAMFILES(X86)': 'C:\\\\Program Files (x86)', 'PROGRAMW6432': 'C:\\\\Program Files', 'REGIONCODE': 'NA', 'SESSIONNAME': 'Console', 'SHELL': 'C:\\\\Users\\\\andre\\\\Downloads\\\\Git\\\\usr\\\\bin\\\\bash.exe', 'SHLVL': '1', 'SSH_ASKPASS': 'C:/Users/andre/Downloads/Git/mingw64/libexec/git-core/git-gui--askpass', 'SYSTEMDRIVE': 'C:', 'SYSTEMROOT': 'C:\\\\windows', 'TEMP': 'C:\\\\Users\\\\andre\\\\AppData\\\\Local\\\\Temp', 'TERM': 'xterm-color', 'TMP': 'C:\\\\Users\\\\andre\\\\AppData\\\\Local\\\\Temp', 'TMPDIR': 'C:\\\\Users\\\\andre\\\\AppData\\\\Local\\\\Temp', 'USERDOMAIN': 'LAPTOP-J6BV71UC', 'USERDOMAIN_ROAMINGPROFILE': 'LAPTOP-J6BV71UC', 'USERNAME': 'andre', 'USERPROFILE': 'C:\\\\Users\\\\andre', 'WINDIR': 'C:\\\\windows', '_': 'C:/Users/andre/anaconda3/Scripts/jupyter-lab', '_CE_CONDA': '', '_CE_M': '', 'PLATFORMCODE': 'KV', 'KERNEL_LAUNCH_TIMEOUT': '40', 'JPY_INTERRUPT_EVENT': '2588', 'IPY_INTERRUPT_EVENT': '2588', 'JPY_PARENT_PID': '2580', 'CLICOLOR': '1', 'PAGER': 'cat', 'GIT_PAGER': 'cat', 'MPLBACKEND': 'module://ipykernel.pylab.backend_inline', 'ALPACA_API_KEY': 'PKPSAHJHLXAG7R9BBDZX', 'ALPACA_SECRET_KEY': 'QnWrSqnasUd4f8GlLLrXCqRVyiKcubgrS9CA/8/1'})\n"
     ]
    }
   ],
   "source": [
    "print(os.environ)"
   ]
  },
  {
   "cell_type": "code",
   "execution_count": 31,
   "metadata": {},
   "outputs": [
    {
     "data": {
      "text/plain": [
       "True"
      ]
     },
     "execution_count": 31,
     "metadata": {},
     "output_type": "execute_result"
    }
   ],
   "source": [
    "load_dotenv()"
   ]
  },
  {
   "cell_type": "code",
   "execution_count": 32,
   "metadata": {},
   "outputs": [
    {
     "name": "stdout",
     "output_type": "stream",
     "text": [
      "PKPSAHJHLXAG7R9BBDZX\n"
     ]
    }
   ],
   "source": [
    "print(os.getenv(\"ALPACA_API_KEY\"))"
   ]
  },
  {
   "cell_type": "code",
   "execution_count": 33,
   "metadata": {},
   "outputs": [
    {
     "name": "stdout",
     "output_type": "stream",
     "text": [
      "None\n"
     ]
    }
   ],
   "source": [
    "print(os.getenv(\"PLAID_CLIENT_ID\"))"
   ]
  },
  {
   "cell_type": "code",
   "execution_count": 34,
   "metadata": {},
   "outputs": [],
   "source": [
    "\n",
    "plaid_client_id = os.getenv('PLAID_CLIENT_ID')\n",
    "plaid_secret = os.getenv('PLAID_SECRET')\n",
    "plaid_public_key = os.getenv('PLAID_PUBLIC_KEY')\n",
    "plaid_env = os.getenv('PLAID_ENV', 'sandbox')\n",
    "plaid_products = os.getenv('PLAID_PRODUCTS', 'transactions')"
   ]
  },
  {
   "cell_type": "code",
   "execution_count": 26,
   "metadata": {},
   "outputs": [
    {
     "name": "stdout",
     "output_type": "stream",
     "text": [
      "None\n"
     ]
    }
   ],
   "source": [
    "print(plaid_client_id)"
   ]
  },
  {
   "cell_type": "markdown",
   "metadata": {},
   "source": [
    "# Plaid Access Token\n",
    "\n",
    "In this section, you will use the plaid-python api to generate the correct authentication tokens to access data in the free developer Sandbox. This mimics how you might connect to your own account or a customer account, but due to privacy issues, this homework will only require connecting to and analyzing the fake data from the developer sandbox that Plaid provides. \n",
    "\n",
    "Complete the following steps to generate an access token:\n",
    "1. Create a client to connect to plaid\n",
    "2. Use the client to generate a public token and request the following items: \n",
    "['transactions', 'income', 'assets']\n",
    "3. Exchange the public token for an access token\n",
    "4. Test the access token by requesting and printing the available test accounts"
   ]
  },
  {
   "cell_type": "markdown",
   "metadata": {},
   "source": [
    "### 1. Create a client to connect to plaid"
   ]
  },
  {
   "cell_type": "code",
   "execution_count": null,
   "metadata": {},
   "outputs": [],
   "source": [
    "client = plaid.Client(\n",
    "    client_id=plaid_client_id,\n",
    "    secret=plaid_secret,\n",
    "    public_key=plaid_public_key,\n",
    "    environment='sandbox')\n",
    "\n",
    "client.Institutions.get(1)"
   ]
  },
  {
   "cell_type": "markdown",
   "metadata": {},
   "source": [
    "### 2. Generate a public token"
   ]
  },
  {
   "cell_type": "code",
   "execution_count": null,
   "metadata": {},
   "outputs": [],
   "source": [
    "# YOUR CODE HERE\n",
    "INSTITUTION_ID = \"ins_109508\"\n",
    "\n",
    "token_response = client.Sandbox.public_token.create(INSTITUTION_ID, ['transactions', 'income', 'assets'])\n",
    "token_response"
   ]
  },
  {
   "cell_type": "markdown",
   "metadata": {},
   "source": [
    "### 3. Exchange the public token for an access token"
   ]
  },
  {
   "cell_type": "code",
   "execution_count": null,
   "metadata": {},
   "outputs": [],
   "source": [
    "# YOUR CODE HERE\n",
    "exchange = client.Item.public_token.exchange(token_response['public_token'])\n",
    "exchange\n",
    "\n",
    "access_token = exchange['access_token']"
   ]
  },
  {
   "cell_type": "markdown",
   "metadata": {},
   "source": [
    "### 4. Fetch Accounts"
   ]
  },
  {
   "cell_type": "code",
   "execution_count": null,
   "metadata": {},
   "outputs": [],
   "source": [
    "# YOUR CODE HERE\n",
    "client.Accounts.get(access_token)"
   ]
  },
  {
   "cell_type": "markdown",
   "metadata": {},
   "source": [
    "---"
   ]
  },
  {
   "cell_type": "markdown",
   "metadata": {},
   "source": [
    "# Account Transactions with Plaid\n",
    "\n",
    "In this section, you will use the Plaid Python SDK to connect to the Developer Sandbox account and grab a list of transactions. You will need to complete the following steps:\n",
    "\n",
    "\n",
    "1. Use the access token to fetch the transactions for the last 90 days\n",
    "2. Print the categories for each transaction type\n",
    "3. Create a new DataFrame using the following fields from the JSON transaction data: `date, name, amount, category`. (For categories with more than one label, just use the first category label in the list)\n",
    "4. Convert the data types to the appropriate types (i.e. datetimeindex for the date and float for the amount)"
   ]
  },
  {
   "cell_type": "markdown",
   "metadata": {},
   "source": [
    "### 1. Fetch the Transactions for the last 90 days"
   ]
  },
  {
   "cell_type": "code",
   "execution_count": null,
   "metadata": {},
   "outputs": [],
   "source": [
    "# YOUR CODE HERE\n",
    "start_date = '{:%Y-%m-%d}'.format(datetime.datetime.now() + datetime.timedelta(-30))\n",
    "end_date = '{:Y%-%m-%d}'.format(datetime.datetime.now())\n",
    "\n",
    "transaction_response = client.Transactions.get(access_token, start_date, end_date)"
   ]
  },
  {
   "cell_type": "markdown",
   "metadata": {},
   "source": [
    "### 2. Print the categories for each transaction"
   ]
  },
  {
   "cell_type": "code",
   "execution_count": null,
   "metadata": {},
   "outputs": [],
   "source": [
    "# YOUR CODE HERE\n",
    "print(json.dumps(transaction_response['transactions'][:1], indent=4, sort_keys=True))"
   ]
  },
  {
   "cell_type": "markdown",
   "metadata": {},
   "source": [
    "### 3. Create a new DataFrame using the following fields from the JSON transaction data: date, name, amount, category. \n",
    "\n",
    "(For categories with more than one label, just use the first category label in the list)"
   ]
  },
  {
   "cell_type": "code",
   "execution_count": null,
   "metadata": {},
   "outputs": [],
   "source": [
    "# YOUR CODE HERE\n",
    "transaction_data_df = pd.DataFrame(\n",
    "    'date': 'not sure what its supposed to say but maybe \"Date\"?',\n",
    "    'name': 'customer name',\n",
    "    'amount': 'uhh amount?',\n",
    "    'category': 'hmm, category'),[transaction_response]"
   ]
  },
  {
   "cell_type": "markdown",
   "metadata": {},
   "source": [
    "### 4. Convert the data types to the appropriate types \n",
    "\n",
    "(i.e. datetimeindex for the date and float for the amount)"
   ]
  },
  {
   "cell_type": "code",
   "execution_count": null,
   "metadata": {},
   "outputs": [],
   "source": [
    "# YOUR CODE HERE"
   ]
  },
  {
   "cell_type": "markdown",
   "metadata": {},
   "source": [
    "---"
   ]
  },
  {
   "cell_type": "markdown",
   "metadata": {},
   "source": [
    "# Income Analysis with Plaid\n",
    "\n",
    "In this section, you will use the Plaid Sandbox to complete the following:\n",
    "1. Determine the previous year's gross income and print the results\n",
    "2. Determine the current monthly income and print the results\n",
    "3. Determine the projected yearly income and print the results"
   ]
  },
  {
   "cell_type": "code",
   "execution_count": null,
   "metadata": {},
   "outputs": [],
   "source": [
    "# YOUR CODE HERE"
   ]
  },
  {
   "cell_type": "markdown",
   "metadata": {},
   "source": [
    "---"
   ]
  },
  {
   "cell_type": "markdown",
   "metadata": {},
   "source": [
    "# Budget Analysis\n",
    "In this section, you will use the transactions DataFrame to analyze the customer's budget\n",
    "\n",
    "1. Calculate the total spending per category and print the results (Hint: groupby or count transactions per category)\n",
    "2. Generate a bar chart with the number of transactions for each category \n",
    "3. Calculate the expenses per month\n",
    "4. Plot the total expenses per month"
   ]
  },
  {
   "cell_type": "markdown",
   "metadata": {},
   "source": [
    "### Calculate the expenses per category"
   ]
  },
  {
   "cell_type": "code",
   "execution_count": null,
   "metadata": {},
   "outputs": [],
   "source": [
    "# YOUR CODE HERE"
   ]
  },
  {
   "cell_type": "markdown",
   "metadata": {},
   "source": [
    "### Calculate the expenses per month"
   ]
  },
  {
   "cell_type": "code",
   "execution_count": null,
   "metadata": {},
   "outputs": [],
   "source": [
    "# YOUR CODE HERE"
   ]
  }
 ],
 "metadata": {
  "kernel_info": {
   "name": "dev"
  },
  "kernelspec": {
   "display_name": "Python 3",
   "language": "python",
   "name": "python3"
  },
  "language_info": {
   "codemirror_mode": {
    "name": "ipython",
    "version": 3
   },
   "file_extension": ".py",
   "mimetype": "text/x-python",
   "name": "python",
   "nbconvert_exporter": "python",
   "pygments_lexer": "ipython3",
   "version": "3.7.6"
  },
  "nteract": {
   "version": "0.12.3"
  }
 },
 "nbformat": 4,
 "nbformat_minor": 4
}
